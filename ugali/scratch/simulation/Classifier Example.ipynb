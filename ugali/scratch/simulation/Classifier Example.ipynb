{
 "cells": [
  {
   "cell_type": "markdown",
   "metadata": {},
   "source": [
    "## Imports etc."
   ]
  },
  {
   "cell_type": "code",
   "execution_count": 1,
   "metadata": {},
   "outputs": [],
   "source": [
    "#Imports\n",
    "import time\n",
    "import numpy as np\n",
    "import yaml\n",
    "import os\n",
    "import pickle\n",
    "import scipy\n",
    "import pylab\n",
    "import matplotlib.pyplot as plt\n",
    "from pylab import figure, axes, pie, title, show\n",
    "import astropy.io.fits as pyfits\n",
    "from astropy.coordinates import Angle\n",
    "from astropy.coordinates import SkyCoord, Galactocentric\n",
    "from astropy_healpix import HEALPix\n",
    "import astropy.units as u\n",
    "import healpy as hp"
   ]
  },
  {
   "cell_type": "markdown",
   "metadata": {},
   "source": [
    "## Load classifier"
   ]
  },
  {
   "cell_type": "code",
   "execution_count": 2,
   "metadata": {},
   "outputs": [],
   "source": [
    "class surveySelectionFunction:\n",
    "    \n",
    "    def __init__(self, config_file):\n",
    "        self.config = yaml.load(open(config_file))\n",
    "        self.algorithm = self.config['operation']['algorithm']\n",
    "        self.classifier = None\n",
    "        self.loadClassifier()\n",
    "\n",
    "    def loadClassifier(self):\n",
    "        if os.path.exists(self.config[self.algorithm]['classifier'] + '.gz') and not os.path.exists(self.config[self.algorithm]['classifier']):\n",
    "            os.system('gunzip -k %s.gz'%(self.config[self.algorithm]['classifier']))\n",
    "        reader = open(self.config[self.algorithm]['classifier'])\n",
    "        classifier_data = ''.join(reader.readlines())\n",
    "        reader.close()\n",
    "        self.classifier = pickle.loads(classifier_data)\n",
    "        \n",
    "    def predict(self, **kwargs):\n",
    "        assert self.classifier is not None, 'ERROR'    \n",
    "        x_test = []\n",
    "        for key, operation in self.config['operation']['params_intrinsic']:\n",
    "            assert operation.lower() in ['linear', 'log'], 'ERROR'\n",
    "            if operation.lower() == 'linear':\n",
    "                x_test.append(kwargs[key])\n",
    "            else:\n",
    "                x_test.append(np.log10(kwargs[key]))\n",
    "\n",
    "        x_test = np.vstack(x_test).T\n",
    "        #pred = self.classifier.predict(x_test)#[:,1]\n",
    "        pred = self.classifier.predict_proba(x_test)[:,1]\n",
    "        return pred"
   ]
  },
  {
   "cell_type": "code",
   "execution_count": 6,
   "metadata": {},
   "outputs": [],
   "source": [
    "DES_config_file = os.getcwd() + '/des_y3a2_survey_selection_function.yaml'\n",
    "DES_ssf = surveySelectionFunction(DES_config_file)\n",
    "DES_ssf.loadClassifier()"
   ]
  },
  {
   "cell_type": "code",
   "execution_count": 7,
   "metadata": {},
   "outputs": [],
   "source": [
    "PS1_config_file = os.getcwd() + '/PS1_DR1_survey_selection_function.yaml'\n",
    "PS1_ssf = surveySelectionFunction(PS1_config_file)\n",
    "PS1_ssf.loadClassifier()"
   ]
  },
  {
   "cell_type": "markdown",
   "metadata": {},
   "source": [
    "## Load satellite data"
   ]
  },
  {
   "cell_type": "code",
   "execution_count": 8,
   "metadata": {},
   "outputs": [],
   "source": [
    "data_sim = pyfits.open('lvdb_v2.fits')\n",
    "lvdb = data_sim[1].data"
   ]
  },
  {
   "cell_type": "code",
   "execution_count": 14,
   "metadata": {},
   "outputs": [],
   "source": [
    "PS1_confirmed_sats = ['Leo I', 'Leo II', \n",
    "            'Draco', 'Ursa Minor', 'Sextans', 'Canes Venatici I', 'Bootes I', 'Ursa Major II',\n",
    "            'Coma Berenices I', 'Sagittarius II', 'Segue 1', 'Segue 2', 'Canes Venatici II', 'Draco II',\n",
    "            'Triangulum II', 'Ursa Major I', 'Hercules I', 'Crater II', 'Bootes II'] \n",
    "    \n",
    "PS1_sats_all = ['Leo I', 'Leo II', \n",
    "            'Draco', 'Ursa Minor', 'Sextans', 'Canes Venatici I', 'Bootes I', 'Ursa Major II',\n",
    "            'Coma Berenices I', 'Sagittarius II', 'Segue 1', 'Segue 2', 'Canes Venatici II', 'Draco II',\n",
    "            'Triangulum II', 'Ursa Major I', 'Hercules I', 'Crater II', 'Leo IV', 'Aquarius II', 'Cetus II',\n",
    "               'Bootes II', 'Leo V', 'Bootes III', 'Columba I', 'Pisces II', 'Antlia', 'Virgo I', 'Pegasus III',\n",
    "               'Cetus III'] \n",
    "    \n",
    "MW_Mv_PS1 = []\n",
    "MW_r_PS1 = []\n",
    "MW_ra_PS1 = []\n",
    "MW_dec_PS1 = []\n",
    "MW_r12_PS1 = []\n",
    "\n",
    "for name in PS1_sats_all:\n",
    "    MW_Mv_PS1.append(lvdb[lvdb['name'] == name]['m_v'][0])\n",
    "    MW_r_PS1.append(lvdb[lvdb['name'] == name]['distance_kpc'][0])\n",
    "    MW_r12_PS1.append(np.radians(lvdb[lvdb['name'] == name]['rhalf'][0]/60.)*lvdb[lvdb['name'] == name]['distance_kpc'][0])\n",
    "    MW_ra_PS1.append(lvdb[lvdb['name'] == name]['ra'][0])\n",
    "    MW_dec_PS1.append(lvdb[lvdb['name'] == name]['dec'][0])\n",
    "    \n",
    "    \n",
    "MW_Mv_PS1 = np.asarray(MW_Mv_PS1)\n",
    "MW_r_PS1 = np.asarray(MW_r_PS1)\n",
    "MW_ra_PS1 = np.asarray(MW_ra_PS1)\n",
    "MW_dec_PS1 = np.asarray(MW_dec_PS1)\n",
    "MW_r12_PS1 = np.asarray(MW_r12_PS1)"
   ]
  },
  {
   "cell_type": "code",
   "execution_count": 15,
   "metadata": {},
   "outputs": [],
   "source": [
    "#Literature values not in LVDB \n",
    "MW_Mv_PS1[-1] = -2.4\n",
    "MW_Mv_PS1[-11] = -4.36\n",
    "MW_Mv_PS1[-13] = -8.2\n",
    "\n",
    "MW_r12_PS1[-1] = 0.09\n",
    "MW_r12_PS1[-7] = np.radians(0.5/60.)*lvdb[lvdb['name']=='Bootes III']['distance_kpc']\n",
    "MW_r12_PS1[-11] = 0.16\n",
    "MW_r12_PS1[-13] = 1.1"
   ]
  },
  {
   "cell_type": "code",
   "execution_count": 16,
   "metadata": {},
   "outputs": [],
   "source": [
    "DES_dwarfs_confirmed = ['Large Magellanic Cloud', 'Small Magellanic Cloud', 'Fornax', 'Sculptor', 'Reticulum II', 'Eridanus II', 'Grus II', 'Tucana II',\n",
    "                             'Horologium I', 'Tucana III', 'Tucana IV', 'Phoenix II', 'Cetus II', 'Horologium II',\n",
    "                             'Tucana V', 'Grus I', 'Columba I', 'Pictor I', 'Eridanus III', 'Reticulum III']\n",
    "\n",
    "DES_dwarfs_all = ['Large Magellanic Cloud', 'Small Magellanic Cloud', 'Fornax', 'Sculptor', 'Reticulum II', \n",
    "                  'Eridanus II', 'Grus II', 'Tucana II', 'Horologium I', 'Tucana III', 'Tucana IV', 'Phoenix II', \n",
    "                  'Cetus II', 'Horologium II', 'Tucana V', 'Grus I', 'Columba I', 'Pictor I', 'Eridanus III', \n",
    "                  'Reticulum III', 'Kim 2', 'Reticulum III', 'Indus II', 'Cetus III']\n",
    "\n",
    "MW_Mv_DES = []\n",
    "MW_r_DES = []\n",
    "MW_ra_DES = []\n",
    "MW_dec_DES = []\n",
    "MW_r12_DES = []\n",
    "\n",
    "for name in DES_dwarfs_all:\n",
    "    if name == 'Pictor I':\n",
    "        MW_Mv_DES.append(lvdb[lvdb['name'] == name]['m_v'][1])\n",
    "        MW_r_DES.append(lvdb[lvdb['name'] == name]['distance_kpc'][1])\n",
    "        MW_r12_DES.append(np.radians(lvdb[lvdb['name'] == name]['rhalf'][1]/60.)*lvdb[lvdb['name'] == name]['distance_kpc'][1])\n",
    "        MW_ra_DES.append(lvdb[lvdb['name'] == name]['ra'][1])\n",
    "        MW_dec_DES.append(lvdb[lvdb['name'] == name]['dec'][1])\n",
    "        continue\n",
    "    else:\n",
    "        MW_Mv_DES.append(lvdb[lvdb['name'] == name]['m_v'][0])\n",
    "        MW_r_DES.append(lvdb[lvdb['name'] == name]['distance_kpc'][0])\n",
    "        MW_r12_DES.append(np.radians(lvdb[lvdb['name'] == name]['rhalf'][0]/60.)*lvdb[lvdb['name'] == name]['distance_kpc'][0])\n",
    "        MW_ra_DES.append(lvdb[lvdb['name'] == name]['ra'][0])\n",
    "        MW_dec_DES.append(lvdb[lvdb['name'] == name]['dec'][0])\n",
    "        \n",
    "MW_Mv_DES = np.asarray(MW_Mv_DES)\n",
    "MW_r_DES = np.asarray(MW_r_DES)\n",
    "MW_ra_DES = np.asarray(MW_ra_DES)\n",
    "MW_dec_DES = np.asarray(MW_dec_DES)\n",
    "MW_r12_DES = np.asarray(MW_r12_DES)"
   ]
  },
  {
   "cell_type": "code",
   "execution_count": 17,
   "metadata": {},
   "outputs": [],
   "source": [
    "#Literature values not in LVDB\n",
    "MW_Mv_DES[-1] = -2.4\n",
    "MW_Mv_DES[-2] = -4.3\n",
    "\n",
    "MW_r12_DES[0] = 2.15\n",
    "MW_r12_DES[1] = 1.073\n",
    "MW_r12_DES[-1] = 0.09\n",
    "MW_r12_DES[-2] = 0.181"
   ]
  },
  {
   "cell_type": "markdown",
   "metadata": {},
   "source": [
    "## Test classifier"
   ]
  },
  {
   "cell_type": "code",
   "execution_count": 18,
   "metadata": {},
   "outputs": [
    {
     "data": {
      "text/plain": [
       "array([9.99821494e-01, 9.99207336e-01, 9.98128891e-01, 9.96326308e-01,\n",
       "       9.94563527e-01, 9.94506158e-01, 8.87727980e-01, 5.19867632e-01,\n",
       "       9.13116606e-01, 9.89960996e-01, 3.95094026e-01, 5.64092130e-02,\n",
       "       7.59938398e-01, 9.77867140e-01, 5.03446783e-01, 8.48609190e-02,\n",
       "       5.39724442e-01, 3.15075063e-01, 3.09841784e-01, 2.23499908e-02,\n",
       "       1.94243812e-02, 3.26368406e-01, 3.35867384e-01, 9.98705471e-01,\n",
       "       6.22809529e-02, 7.05984045e-02, 9.98195006e-01, 5.80545509e-04,\n",
       "       1.22116682e-02, 7.16804267e-04])"
      ]
     },
     "execution_count": 18,
     "metadata": {},
     "output_type": "execute_result"
    }
   ],
   "source": [
    "PS1_ssf.predict(distance=MW_r_PS1,abs_mag=MW_Mv_PS1-0.5,\n",
    "                r_physical=MW_r12_PS1)"
   ]
  },
  {
   "cell_type": "code",
   "execution_count": 19,
   "metadata": {},
   "outputs": [
    {
     "data": {
      "text/plain": [
       "array([9.80089167e-01, 9.99921828e-01, 9.99996471e-01, 9.99997663e-01,\n",
       "       9.99025708e-01, 9.99341639e-01, 9.94809701e-01, 6.85713229e-01,\n",
       "       9.88967516e-01, 9.72720716e-01, 9.52212535e-01, 9.68928253e-01,\n",
       "       5.61278275e-01, 1.44711318e-01, 8.75785267e-01, 9.34754695e-01,\n",
       "       7.43427435e-01, 9.43589291e-01, 8.86038325e-01, 8.19613715e-01,\n",
       "       9.69567748e-01, 8.19613715e-01, 6.02271701e-02, 7.03648843e-04])"
      ]
     },
     "execution_count": 19,
     "metadata": {},
     "output_type": "execute_result"
    }
   ],
   "source": [
    "DES_ssf.predict(lon=MW_ra_DES,lat=MW_dec_DES,distance=MW_r_DES,abs_mag=MW_Mv_DES,\n",
    "                r_physical=MW_r12_DES)"
   ]
  },
  {
   "cell_type": "code",
   "execution_count": 20,
   "metadata": {},
   "outputs": [
    {
     "name": "stderr",
     "output_type": "stream",
     "text": [
      "/usr/local/lib/python2.7/site-packages/matplotlib/colorbar.py:413: UserWarning: set_ticks() must have been called.\n",
      "  warnings.warn(\"set_ticks() must have been called.\")\n"
     ]
    },
    {
     "data": {
      "image/png": "[encoded data removed]",
      "text/plain": [
       "<matplotlib.figure.Figure at 0x10dcc4fd0>"
      ]
     },
     "metadata": {},
     "output_type": "display_data"
    }
   ],
   "source": [
    "plt.xscale('log')\n",
    "sc = plt.scatter(MW_r_PS1,MW_Mv_PS1,c=PS1_ssf.predict(distance=MW_r_PS1,abs_mag=MW_Mv_PS1-0.5,\n",
    "                r_physical=MW_r12_PS1),s=400.*MW_r12_PS1/np.max(MW_r12_PS1),vmin=0.,vmax=1.,cmap='plasma_r')\n",
    "\n",
    "plt.xticks([10,30,50,100,200,300],[10,30,50,100,200,300],fontsize=16)\n",
    "plt.yticks([0,-2,-4,-6,-8,-10,-12,-14],[0,-2,-4,-6,-8,-10,-12,-14],fontsize=16)\n",
    "plt.xlabel(r'$r_{\\rm{\\odot}}$ [kpc]', size=20)\n",
    "plt.ylabel(r'$M_V$ [mag]', size=20)   \n",
    "\n",
    "cbar = plt.colorbar(sc)\n",
    "cbar.set_label(r'$p_{\\rm{det}}$',size=20,labelpad=4)\n",
    "cbar.set_ticklabels([0,0.2,0.4,0.6,0.8,1.0])\n",
    "cbar.ax.tick_params(labelsize=16) \n",
    "\n",
    "plt.tight_layout()\n",
    "plt.show()"
   ]
  },
  {
   "cell_type": "code",
   "execution_count": 21,
   "metadata": {},
   "outputs": [
    {
     "data": {
      "image/png": "[encoded data removed]",
      "text/plain": [
       "<matplotlib.figure.Figure at 0x133d76210>"
      ]
     },
     "metadata": {},
     "output_type": "display_data"
    }
   ],
   "source": [
    "plt.xscale('log')\n",
    "sc = plt.scatter(MW_r_DES[2:],MW_Mv_DES[2:],c=DES_ssf.predict(distance=MW_r_DES[2:],abs_mag=MW_Mv_DES[2:],\n",
    "                r_physical=MW_r12_DES[2:]),s=400.*MW_r12_DES[2:]/np.max(MW_r12_PS1),vmin=0.,vmax=1.,cmap='plasma_r')\n",
    "\n",
    "plt.xticks([10,30,50,100,200,300],[10,30,50,100,200,300],fontsize=16)\n",
    "plt.yticks([0,-2,-4,-6,-8,-10,-12,-14],[0,-2,-4,-6,-8,-10,-12,-14],fontsize=16)\n",
    "plt.xlabel(r'$r_{\\rm{\\odot}}$ [kpc]', size=20)\n",
    "plt.ylabel(r'$M_V$ [mag]', size=20)   \n",
    "\n",
    "cbar = plt.colorbar(sc)\n",
    "cbar.set_label(r'$p_{\\rm{det}}$',size=20,labelpad=4)\n",
    "cbar.set_ticklabels([0,0.2,0.4,0.6,0.8,1.0])\n",
    "cbar.ax.tick_params(labelsize=16) \n",
    "\n",
    "plt.tight_layout()\n",
    "plt.show()"
   ]
  },
  {
   "cell_type": "code",
   "execution_count": 22,
   "metadata": {},
   "outputs": [],
   "source": [
    "pdet_DES = {}\n",
    "i = 0\n",
    "\n",
    "for name in DES_dwarfs_confirmed:\n",
    "    pdet_DES[name] = DES_ssf.predict(lon=MW_ra_DES[i],lat=MW_dec_DES[i],distance=MW_r_DES[i],abs_mag=MW_Mv_DES[i],\n",
    "                r_physical=MW_r12_DES[i])\n",
    "    i += 1\n",
    "    \n",
    "np.save('pdet_DES.npy', pdet_DES)"
   ]
  },
  {
   "cell_type": "code",
   "execution_count": 23,
   "metadata": {},
   "outputs": [
    {
     "data": {
      "text/plain": [
       "{'Cetus II': array([0.56127828]),\n",
       " 'Columba I': array([0.74342743]),\n",
       " 'Eridanus II': array([0.99934164]),\n",
       " 'Eridanus III': array([0.88603833]),\n",
       " 'Fornax': array([0.99999647]),\n",
       " 'Grus I': array([0.9347547]),\n",
       " 'Grus II': array([0.9948097]),\n",
       " 'Horologium I': array([0.98896752]),\n",
       " 'Horologium II': array([0.14471132]),\n",
       " 'Large Magellanic Cloud': array([0.98008917]),\n",
       " 'Phoenix II': array([0.96892825]),\n",
       " 'Pictor I': array([0.94358929]),\n",
       " 'Reticulum II': array([0.99902571]),\n",
       " 'Reticulum III': array([0.81961372]),\n",
       " 'Sculptor': array([0.99999766]),\n",
       " 'Small Magellanic Cloud': array([0.99992183]),\n",
       " 'Tucana II': array([0.68571323]),\n",
       " 'Tucana III': array([0.97272072]),\n",
       " 'Tucana IV': array([0.95221254]),\n",
       " 'Tucana V': array([0.87578527])}"
      ]
     },
     "execution_count": 23,
     "metadata": {},
     "output_type": "execute_result"
    }
   ],
   "source": [
    "pdet_DES"
   ]
  },
  {
   "cell_type": "code",
   "execution_count": 24,
   "metadata": {},
   "outputs": [],
   "source": [
    "pdet_PS1 = {}\n",
    "j = 0\n",
    "\n",
    "for name in PS1_sats_all:\n",
    "    pdet_PS1[name] = PS1_ssf.predict(distance=MW_r_PS1[j],abs_mag=MW_Mv_PS1[j]-0.5,\n",
    "                r_physical=MW_r12_PS1[j])\n",
    "    j += 1\n",
    "    \n",
    "np.save('pdet_PS1.npy', pdet_PS1)"
   ]
  },
  {
   "cell_type": "code",
   "execution_count": 25,
   "metadata": {},
   "outputs": [
    {
     "data": {
      "text/plain": [
       "{'Antlia': array([0.99819501]),\n",
       " 'Aquarius II': array([0.02234999]),\n",
       " 'Bootes I': array([0.88772798]),\n",
       " 'Bootes II': array([0.32636841]),\n",
       " 'Bootes III': array([0.99870547]),\n",
       " 'Canes Venatici I': array([0.99450616]),\n",
       " 'Canes Venatici II': array([0.7599384]),\n",
       " 'Cetus II': array([0.01942438]),\n",
       " 'Cetus III': array([0.0007168]),\n",
       " 'Columba I': array([0.06228095]),\n",
       " 'Coma Berenices I': array([0.91311661]),\n",
       " 'Crater II': array([0.31507506]),\n",
       " 'Draco': array([0.99812889]),\n",
       " 'Draco II': array([0.97786714]),\n",
       " 'Hercules I': array([0.53972444]),\n",
       " 'Leo I': array([0.99982149]),\n",
       " 'Leo II': array([0.99920734]),\n",
       " 'Leo IV': array([0.30984178]),\n",
       " 'Leo V': array([0.33586738]),\n",
       " 'Pegasus III': array([0.01221167]),\n",
       " 'Pisces II': array([0.0705984]),\n",
       " 'Sagittarius II': array([0.989961]),\n",
       " 'Segue 1': array([0.39509403]),\n",
       " 'Segue 2': array([0.05640921]),\n",
       " 'Sextans': array([0.99456353]),\n",
       " 'Triangulum II': array([0.50344678]),\n",
       " 'Ursa Major I': array([0.08486092]),\n",
       " 'Ursa Major II': array([0.51986763]),\n",
       " 'Ursa Minor': array([0.99632631]),\n",
       " 'Virgo I': array([0.00058055])}"
      ]
     },
     "execution_count": 25,
     "metadata": {},
     "output_type": "execute_result"
    }
   ],
   "source": [
    "pdet_PS1"
   ]
  }
 ],
 "metadata": {
  "kernelspec": {
   "display_name": "Python 2",
   "language": "python",
   "name": "python2"
  },
  "language_info": {
   "codemirror_mode": {
    "name": "ipython",
    "version": 2
   },
   "file_extension": ".py",
   "mimetype": "text/x-python",
   "name": "python",
   "nbconvert_exporter": "python",
   "pygments_lexer": "ipython2",
   "version": "2.7.15"
  }
 },
 "nbformat": 4,
 "nbformat_minor": 2
}
