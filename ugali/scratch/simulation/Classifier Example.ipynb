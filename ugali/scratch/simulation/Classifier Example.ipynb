{
 "cells": [
  {
   "cell_type": "markdown",
   "metadata": {},
   "source": [
    "## Imports etc."
   ]
  },
  {
   "cell_type": "code",
   "execution_count": 1,
   "metadata": {},
   "outputs": [],
   "source": [
    "#Imports\n",
    "import time\n",
    "import numpy as np\n",
    "import yaml\n",
    "import os\n",
    "import pickle\n",
    "import scipy\n",
    "import pylab\n",
    "import matplotlib.pyplot as plt\n",
    "from pylab import figure, axes, pie, title, show\n",
    "import astropy.io.fits as pyfits\n",
    "from astropy.coordinates import Angle\n",
    "from astropy.coordinates import SkyCoord, Galactocentric\n",
    "from astropy_healpix import HEALPix\n",
    "import astropy.units as u\n",
    "import healpy as hp"
   ]
  },
  {
   "cell_type": "markdown",
   "metadata": {},
   "source": [
    "## Load classifier"
   ]
  },
  {
   "cell_type": "code",
   "execution_count": 2,
   "metadata": {},
   "outputs": [],
   "source": [
    "class surveySelectionFunction:\n",
    "    \n",
    "    def __init__(self, config_file):\n",
    "        self.config = yaml.load(open(config_file))\n",
    "        self.algorithm = self.config['operation']['algorithm']\n",
    "        self.classifier = None\n",
    "        self.loadClassifier()\n",
    "\n",
    "    def loadClassifier(self):\n",
    "        if os.path.exists(self.config[self.algorithm]['classifier'] + '.gz') and not os.path.exists(self.config[self.algorithm]['classifier']):\n",
    "            os.system('gunzip -k %s.gz'%(self.config[self.algorithm]['classifier']))\n",
    "        reader = open(self.config[self.algorithm]['classifier'])\n",
    "        classifier_data = ''.join(reader.readlines())\n",
    "        reader.close()\n",
    "        self.classifier = pickle.loads(classifier_data)\n",
    "        \n",
    "    def predict(self, **kwargs):\n",
    "        assert self.classifier is not None, 'ERROR'    \n",
    "        x_test = []\n",
    "        for key, operation in self.config['operation']['params_intrinsic']:\n",
    "            assert operation.lower() in ['linear', 'log'], 'ERROR'\n",
    "            if operation.lower() == 'linear':\n",
    "                x_test.append(kwargs[key])\n",
    "            else:\n",
    "                x_test.append(np.log10(kwargs[key]))\n",
    "\n",
    "        x_test = np.vstack(x_test).T\n",
    "        #pred = self.classifier.predict(x_test)#[:,1]\n",
    "        pred = self.classifier.predict_proba(x_test)[:,1]\n",
    "        return pred"
   ]
  },
  {
   "cell_type": "code",
   "execution_count": 3,
   "metadata": {},
   "outputs": [
    {
     "name": "stderr",
     "output_type": "stream",
     "text": [
      "/usr/local/lib/python2.7/site-packages/sklearn/base.py:251: UserWarning: Trying to unpickle estimator MLPClassifier from version 0.18.1 when using version 0.20.2. This might lead to breaking code or invalid results. Use at your own risk.\n",
      "  UserWarning)\n",
      "/usr/local/lib/python2.7/site-packages/sklearn/base.py:251: UserWarning: Trying to unpickle estimator LabelBinarizer from version 0.18.1 when using version 0.20.2. This might lead to breaking code or invalid results. Use at your own risk.\n",
      "  UserWarning)\n",
      "/usr/local/lib/python2.7/site-packages/sklearn/base.py:251: UserWarning: Trying to unpickle estimator GridSearchCV from version 0.18.1 when using version 0.20.2. This might lead to breaking code or invalid results. Use at your own risk.\n",
      "  UserWarning)\n"
     ]
    }
   ],
   "source": [
    "DES_config_file = os.getcwd() + '/des_y3a2_survey_selection_function.yaml'\n",
    "DES_ssf = surveySelectionFunction(DES_config_file)\n",
    "DES_ssf.loadClassifier()"
   ]
  },
  {
   "cell_type": "code",
   "execution_count": 4,
   "metadata": {},
   "outputs": [],
   "source": [
    "PS1_config_file = os.getcwd() + '/PS1_DR1_survey_selection_function.yaml'\n",
    "PS1_ssf = surveySelectionFunction(PS1_config_file)\n",
    "PS1_ssf.loadClassifier()"
   ]
  },
  {
   "cell_type": "markdown",
   "metadata": {},
   "source": [
    "## Load satellite data"
   ]
  },
  {
   "cell_type": "code",
   "execution_count": 5,
   "metadata": {},
   "outputs": [],
   "source": [
    "data_sim = pyfits.open('lvdb_v2.fits')\n",
    "lvdb = data_sim[1].data"
   ]
  },
  {
   "cell_type": "code",
   "execution_count": 6,
   "metadata": {},
   "outputs": [],
   "source": [
    "PS1_confirmed_sats = ['Leo I', 'Leo II', \n",
    "            'Draco', 'Ursa Minor', 'Sextans', 'Canes Venatici I', 'Bootes I', 'Ursa Major II',\n",
    "            'Coma Berenices I', 'Sagittarius II', 'Segue 1', 'Segue 2', 'Canes Venatici II', 'Draco II',\n",
    "            'Triangulum II', 'Ursa Major I', 'Hercules I', 'Crater II', 'Bootes II'] \n",
    "    \n",
    "PS1_sats_all = ['Willman 1', 'Leo I', 'Leo II', \n",
    "            'Draco', 'Ursa Minor', 'Sextans', 'Canes Venatici I', 'Bootes I', 'Ursa Major II',\n",
    "            'Coma Berenices I', 'Sagittarius II', 'Segue 1', 'Segue 2', 'Canes Venatici II', 'Draco II',\n",
    "            'Triangulum II', 'Ursa Major I', 'Hercules I', 'Crater II', 'Leo IV', 'Aquarius II', 'Cetus II',\n",
    "               'Bootes II', 'Leo V', 'Bootes III', 'Columba I', 'Pisces II', 'Antlia', 'Virgo I', 'Pegasus III',\n",
    "               'Cetus III'] \n",
    "    \n",
    "MW_Mv_PS1 = {}\n",
    "MW_r_PS1 = {}\n",
    "MW_ra_PS1 = {}\n",
    "MW_dec_PS1 = {}\n",
    "MW_r12_PS1 = {}\n",
    "\n",
    "for name in PS1_sats_all:\n",
    "    MW_Mv_PS1[name] = lvdb[lvdb['name'] == name]['m_v'][0]\n",
    "    MW_r_PS1[name] = lvdb[lvdb['name'] == name]['distance_kpc'][0]\n",
    "    if np.isnan(lvdb[lvdb['name'] == name]['ellipticity'][0]):\n",
    "        MW_r12_PS1[name] = np.radians(lvdb[lvdb['name'] == name]['rhalf'][0]/60.)*lvdb[lvdb['name'] == name]['distance_kpc'][0]\n",
    "    else:\n",
    "        MW_r12_PS1[name] = np.radians(lvdb[lvdb['name'] == name]['rhalf'][0]/60.)*lvdb[lvdb['name'] == name]['distance_kpc'][0]*np.sqrt(1.-lvdb[lvdb['name'] == name]['ellipticity'][0])\n",
    "    MW_ra_PS1[name] = lvdb[lvdb['name'] == name]['ra'][0]\n",
    "    MW_dec_PS1[name] = lvdb[lvdb['name'] == name]['dec'][0]"
   ]
  },
  {
   "cell_type": "code",
   "execution_count": 7,
   "metadata": {},
   "outputs": [],
   "source": [
    "#Literature values not in LVDB \n",
    "MW_Mv_PS1['Cetus III'] = -2.4\n",
    "MW_Mv_PS1['Aquarius II'] = -4.36\n",
    "MW_Mv_PS1['Crater II'] = -8.2\n",
    "\n",
    "MW_r12_PS1['Cetus III'] = 0.09\n",
    "MW_r12_PS1['Bootes III'] = np.radians(0.5)*lvdb[lvdb['name']=='Bootes III']['distance_kpc']\n",
    "MW_r12_PS1['Aquarius II'] = 0.16\n",
    "MW_r12_PS1['Crater II'] = 1.1"
   ]
  },
  {
   "cell_type": "code",
   "execution_count": 12,
   "metadata": {},
   "outputs": [],
   "source": [
    "DES_dwarfs_confirmed = ['Large Magellanic Cloud', 'Small Magellanic Cloud', 'Fornax', 'Sculptor', 'Reticulum II', 'Eridanus II', 'Grus II', 'Tucana II',\n",
    "                             'Horologium I', 'Tucana III', 'Tucana IV', 'Phoenix II', 'Cetus II', 'Horologium II',\n",
    "                             'Tucana V', 'Grus I', 'Columba I', 'Pictor I', 'Eridanus III', 'Reticulum III']\n",
    "\n",
    "DES_dwarfs_all = ['Large Magellanic Cloud', 'Small Magellanic Cloud', 'Fornax', 'Sculptor', 'Reticulum II', \n",
    "                  'Eridanus II', 'Grus II', 'Tucana II', 'Horologium I', 'Tucana III', 'Tucana IV', 'Phoenix II', \n",
    "                  'Cetus II', 'Horologium II', 'Tucana V', 'Grus I', 'Columba I', 'Pictor I', 'Eridanus III', \n",
    "                  'Reticulum III', 'Kim 2', 'Reticulum III', 'Indus II', 'Cetus III']\n",
    "\n",
    "MW_Mv_DES = {}\n",
    "MW_r_DES = {}\n",
    "MW_ra_DES = {}\n",
    "MW_dec_DES = {}\n",
    "MW_r12_DES = {}\n",
    "\n",
    "for name in DES_dwarfs_all:\n",
    "    if name == 'Pictor I':\n",
    "        MW_Mv_DES[name] = lvdb[lvdb['name'] == name]['m_v'][1]\n",
    "        MW_r_DES[name] = lvdb[lvdb['name'] == name]['distance_kpc'][1]\n",
    "        MW_r12_DES[name] = np.radians(lvdb[lvdb['name'] == name]['rhalf'][1]/60.)*lvdb[lvdb['name'] == name]['distance_kpc'][1]*np.sqrt(1.-lvdb[lvdb['name'] == name]['ellipticity'][1])\n",
    "        MW_ra_DES[name] = lvdb[lvdb['name'] == name]['ra'][1]\n",
    "        MW_dec_DES[name] = lvdb[lvdb['name'] == name]['dec'][1]\n",
    "    else:\n",
    "        MW_Mv_DES[name] = lvdb[lvdb['name'] == name]['m_v'][0]\n",
    "        MW_r_DES[name] = lvdb[lvdb['name'] == name]['distance_kpc'][0]\n",
    "        if np.isnan(lvdb[lvdb['name'] == name]['ellipticity'][0]):\n",
    "            MW_r12_DES[name] = np.radians(lvdb[lvdb['name'] == name]['rhalf'][0]/60.)*lvdb[lvdb['name'] == name]['distance_kpc'][0]\n",
    "        else:\n",
    "            MW_r12_DES[name] = np.radians(lvdb[lvdb['name'] == name]['rhalf'][0]/60.)*lvdb[lvdb['name'] == name]['distance_kpc'][0]*np.sqrt(1.-lvdb[lvdb['name'] == name]['ellipticity'][0])\n",
    "        MW_ra_DES[name] = lvdb[lvdb['name'] == name]['ra'][0]\n",
    "        MW_dec_DES[name] = lvdb[lvdb['name'] == name]['dec'][0]"
   ]
  },
  {
   "cell_type": "code",
   "execution_count": 14,
   "metadata": {},
   "outputs": [],
   "source": [
    "#Literature values not in LVDB\n",
    "MW_Mv_DES['Cetus III'] = -2.4\n",
    "MW_Mv_DES['Indus II'] = -4.3\n",
    "\n",
    "MW_r12_DES['Large Magellanic Cloud'] = 2.15\n",
    "MW_r12_DES['Small Magellanic Cloud'] = 1.073\n",
    "MW_r12_DES['Cetus III'] = 0.09\n",
    "MW_r12_DES['Indus II'] = 0.181"
   ]
  },
  {
   "cell_type": "markdown",
   "metadata": {},
   "source": [
    "## Test classifier"
   ]
  },
  {
   "cell_type": "code",
   "execution_count": 21,
   "metadata": {},
   "outputs": [
    {
     "data": {
      "image/png": "[encoded data removed]",
      "text/plain": [
       "<matplotlib.figure.Figure at 0x136503290>"
      ]
     },
     "metadata": {},
     "output_type": "display_data"
    }
   ],
   "source": [
    "plt.xscale('log')\n",
    "\n",
    "for name in PS1_sats_all:\n",
    "    sc = plt.scatter(MW_r_PS1[name],MW_Mv_PS1[name],c=PS1_ssf.predict(distance=MW_r_PS1[name],abs_mag=MW_Mv_PS1[name]-0.5,\n",
    "                r_physical=MW_r12_PS1[name]),s=400.*MW_r12_PS1[name]/np.max(MW_r12_PS1.values()),\n",
    "                     vmin=0.,vmax=1.,cmap='plasma_r')\n",
    "\n",
    "plt.xticks([10,30,50,100,200,300],[10,30,50,100,200,300],fontsize=16)\n",
    "plt.yticks([0,-2,-4,-6,-8,-10,-12,-14],[0,-2,-4,-6,-8,-10,-12,-14],fontsize=16)\n",
    "plt.xlabel(r'$r_{\\rm{\\odot}}$ [kpc]', size=20)\n",
    "plt.ylabel(r'$M_V$ [mag]', size=20)   \n",
    "\n",
    "cbar = plt.colorbar(sc)\n",
    "cbar.set_label(r'$p_{\\rm{det}}$',size=20,labelpad=4)\n",
    "cbar.set_ticklabels([0,0.2,0.4,0.6,0.8,1.0])\n",
    "cbar.ax.tick_params(labelsize=16) \n",
    "\n",
    "plt.tight_layout()\n",
    "plt.show()"
   ]
  },
  {
   "cell_type": "code",
   "execution_count": 22,
   "metadata": {},
   "outputs": [
    {
     "data": {
      "image/png": "[encoded data removed]",
      "text/plain": [
       "<matplotlib.figure.Figure at 0x1360d20d0>"
      ]
     },
     "metadata": {},
     "output_type": "display_data"
    }
   ],
   "source": [
    "plt.xscale('log')\n",
    "\n",
    "for name in DES_dwarfs_all[2:]:\n",
    "    sc = plt.scatter(MW_r_DES[name],MW_Mv_DES[name],c=DES_ssf.predict(distance=MW_r_DES[name],abs_mag=MW_Mv_DES[name],\n",
    "                r_physical=MW_r12_DES[name]),s=400.*MW_r12_DES[name]/np.max(MW_r12_PS1.values()),\n",
    "                     vmin=0.,vmax=1.,cmap='plasma_r')\n",
    "\n",
    "plt.xticks([10,30,50,100,200,300],[10,30,50,100,200,300],fontsize=16)\n",
    "plt.yticks([0,-2,-4,-6,-8,-10,-12,-14],[0,-2,-4,-6,-8,-10,-12,-14],fontsize=16)\n",
    "plt.xlabel(r'$r_{\\rm{\\odot}}$ [kpc]', size=20)\n",
    "plt.ylabel(r'$M_V$ [mag]', size=20)   \n",
    "\n",
    "cbar = plt.colorbar(sc)\n",
    "cbar.set_label(r'$p_{\\rm{det}}$',size=20,labelpad=4)\n",
    "cbar.set_ticklabels([0,0.2,0.4,0.6,0.8,1.0])\n",
    "cbar.ax.tick_params(labelsize=16) \n",
    "\n",
    "plt.tight_layout()\n",
    "plt.show()"
   ]
  },
  {
   "cell_type": "code",
   "execution_count": 23,
   "metadata": {},
   "outputs": [],
   "source": [
    "pdet_DES = {}\n",
    "\n",
    "for name in DES_dwarfs_confirmed:\n",
    "    pdet_DES[name] = DES_ssf.predict(distance=MW_r_DES[name],abs_mag=MW_Mv_DES[name],r_physical=MW_r12_DES[name])\n",
    "    \n",
    "np.save('pdet_DES.npy', pdet_DES)"
   ]
  },
  {
   "cell_type": "code",
   "execution_count": 24,
   "metadata": {},
   "outputs": [
    {
     "data": {
      "text/plain": [
       "{'Cetus II': array([0.56127828]),\n",
       " 'Columba I': array([0.74342743]),\n",
       " 'Eridanus II': array([0.99968575]),\n",
       " 'Eridanus III': array([0.90051745]),\n",
       " 'Fornax': array([0.99999839]),\n",
       " 'Grus I': array([0.95250547]),\n",
       " 'Grus II': array([0.9948097]),\n",
       " 'Horologium I': array([0.99170212]),\n",
       " 'Horologium II': array([0.4429124]),\n",
       " 'Large Magellanic Cloud': array([0.98008917]),\n",
       " 'Phoenix II': array([0.98413366]),\n",
       " 'Pictor I': array([0.96542963]),\n",
       " 'Reticulum II': array([0.99932904]),\n",
       " 'Reticulum III': array([0.81961372]),\n",
       " 'Sculptor': array([0.99999864]),\n",
       " 'Small Magellanic Cloud': array([0.99992183]),\n",
       " 'Tucana II': array([0.89681188]),\n",
       " 'Tucana III': array([0.97272072]),\n",
       " 'Tucana IV': array([0.98221593]),\n",
       " 'Tucana V': array([0.91743384])}"
      ]
     },
     "execution_count": 24,
     "metadata": {},
     "output_type": "execute_result"
    }
   ],
   "source": [
    "pdet_DES"
   ]
  },
  {
   "cell_type": "code",
   "execution_count": 25,
   "metadata": {},
   "outputs": [],
   "source": [
    "pdet_PS1 = {}\n",
    "\n",
    "for name in PS1_sats_all:\n",
    "    pdet_PS1[name] = PS1_ssf.predict(distance=MW_r_PS1[name],abs_mag=MW_Mv_PS1[name]-0.5,r_physical=MW_r12_PS1[name])\n",
    "    \n",
    "np.save('pdet_PS1.npy', pdet_PS1)"
   ]
  },
  {
   "cell_type": "code",
   "execution_count": 26,
   "metadata": {},
   "outputs": [
    {
     "data": {
      "text/plain": [
       "{'Antlia': array([0.99859801]),\n",
       " 'Aquarius II': array([0.02234999]),\n",
       " 'Bootes I': array([0.93727241]),\n",
       " 'Bootes II': array([0.42387919]),\n",
       " 'Bootes III': array([0.0491005]),\n",
       " 'Canes Venatici I': array([0.99629122]),\n",
       " 'Canes Venatici II': array([0.85134842]),\n",
       " 'Cetus II': array([0.01942438]),\n",
       " 'Cetus III': array([0.0007168]),\n",
       " 'Columba I': array([0.06228095]),\n",
       " 'Coma Berenices I': array([0.95435539]),\n",
       " 'Crater II': array([0.31507506]),\n",
       " 'Draco': array([0.99847336]),\n",
       " 'Draco II': array([0.98116785]),\n",
       " 'Hercules I': array([0.90690244]),\n",
       " 'Leo I': array([0.99984686]),\n",
       " 'Leo II': array([0.99923394]),\n",
       " 'Leo IV': array([0.37622393]),\n",
       " 'Leo V': array([0.59546455]),\n",
       " 'Pegasus III': array([0.02720566]),\n",
       " 'Pisces II': array([0.11614613]),\n",
       " 'Sagittarius II': array([0.99147345]),\n",
       " 'Segue 1': array([0.48317822]),\n",
       " 'Segue 2': array([0.07549808]),\n",
       " 'Sextans': array([0.99588427]),\n",
       " 'Triangulum II': array([0.64320172]),\n",
       " 'Ursa Major I': array([0.37448919]),\n",
       " 'Ursa Major II': array([0.85463004]),\n",
       " 'Ursa Minor': array([0.99803423]),\n",
       " 'Virgo I': array([0.00059881]),\n",
       " 'Willman 1': array([0.25036783])}"
      ]
     },
     "execution_count": 26,
     "metadata": {},
     "output_type": "execute_result"
    }
   ],
   "source": [
    "pdet_PS1"
   ]
  }
 ],
 "metadata": {
  "kernelspec": {
   "display_name": "Python 2",
   "language": "python",
   "name": "python2"
  },
  "language_info": {
   "codemirror_mode": {
    "name": "ipython",
    "version": 2
   },
   "file_extension": ".py",
   "mimetype": "text/x-python",
   "name": "python",
   "nbconvert_exporter": "python",
   "pygments_lexer": "ipython2",
   "version": "2.7.15"
  }
 },
 "nbformat": 4,
 "nbformat_minor": 2
}
