{
 "cells": [
  {
   "cell_type": "markdown",
   "metadata": {},
   "source": [
    "## Imports etc."
   ]
  },
  {
   "cell_type": "code",
   "execution_count": 29,
   "metadata": {},
   "outputs": [],
   "source": [
    "#Imports\n",
    "import time\n",
    "import numpy as np\n",
    "import yaml\n",
    "import os\n",
    "import pickle\n",
    "import scipy\n",
    "import pylab\n",
    "import matplotlib.pyplot as plt\n",
    "from pylab import figure, axes, pie, title, show\n",
    "import astropy.io.fits as pyfits\n",
    "from astropy.coordinates import Angle\n",
    "from astropy.coordinates import SkyCoord, Galactocentric\n",
    "from astropy_healpix import HEALPix\n",
    "import astropy.units as u\n",
    "import healpy as hp"
   ]
  },
  {
   "cell_type": "markdown",
   "metadata": {},
   "source": [
    "## Load classifier"
   ]
  },
  {
   "cell_type": "code",
   "execution_count": 9,
   "metadata": {},
   "outputs": [],
   "source": [
    "class surveySelectionFunction:\n",
    "    \n",
    "    def __init__(self, config_file):\n",
    "        self.config = yaml.load(open(config_file))\n",
    "        self.algorithm = self.config['operation']['algorithm']\n",
    "        self.classifier = None\n",
    "        self.loadClassifier()\n",
    "\n",
    "    def loadClassifier(self):\n",
    "        if os.path.exists(self.config[self.algorithm]['classifier'] + '.gz') and not os.path.exists(self.config[self.algorithm]['classifier']):\n",
    "            os.system('gunzip -k %s.gz'%(self.config[self.algorithm]['classifier']))\n",
    "        reader = open(self.config[self.algorithm]['classifier'])\n",
    "        classifier_data = ''.join(reader.readlines())\n",
    "        reader.close()\n",
    "        self.classifier = pickle.loads(classifier_data)\n",
    "        \n",
    "    def predict(self, **kwargs):\n",
    "        assert self.classifier is not None, 'ERROR'    \n",
    "        x_test = []\n",
    "        for key, operation in self.config['operation']['params_intrinsic']:\n",
    "            assert operation.lower() in ['linear', 'log'], 'ERROR'\n",
    "            if operation.lower() == 'linear':\n",
    "                x_test.append(kwargs[key])\n",
    "            else:\n",
    "                x_test.append(np.log10(kwargs[key]))\n",
    "\n",
    "        x_test = np.vstack(x_test).T\n",
    "        #pred = self.classifier.predict(x_test)#[:,1]\n",
    "        pred = self.classifier.predict_proba(x_test)[:,1]\n",
    "        return pred"
   ]
  },
  {
   "cell_type": "code",
   "execution_count": 18,
   "metadata": {},
   "outputs": [
    {
     "name": "stderr",
     "output_type": "stream",
     "text": [
      "/usr/local/lib/python2.7/site-packages/sklearn/base.py:251: UserWarning: Trying to unpickle estimator MLPClassifier from version 0.18.1 when using version 0.20.2. This might lead to breaking code or invalid results. Use at your own risk.\n",
      "  UserWarning)\n",
      "/usr/local/lib/python2.7/site-packages/sklearn/base.py:251: UserWarning: Trying to unpickle estimator LabelBinarizer from version 0.18.1 when using version 0.20.2. This might lead to breaking code or invalid results. Use at your own risk.\n",
      "  UserWarning)\n",
      "/usr/local/lib/python2.7/site-packages/sklearn/base.py:251: UserWarning: Trying to unpickle estimator GridSearchCV from version 0.18.1 when using version 0.20.2. This might lead to breaking code or invalid results. Use at your own risk.\n",
      "  UserWarning)\n"
     ]
    }
   ],
   "source": [
    "DES_config_file = os.getcwd() + '/des_y3a2_survey_selection_function.yaml'\n",
    "DES_ssf = surveySelectionFunction(DES_config_file)\n",
    "DES_ssf.loadClassifier()"
   ]
  },
  {
   "cell_type": "code",
   "execution_count": 21,
   "metadata": {},
   "outputs": [],
   "source": [
    "PS1_config_file = os.getcwd() + '/PS1_DR1_survey_selection_function.yaml'\n",
    "PS1_ssf = surveySelectionFunction(PS1_config_file)\n",
    "PS1_ssf.loadClassifier()"
   ]
  },
  {
   "cell_type": "markdown",
   "metadata": {},
   "source": [
    "## Load satellite data"
   ]
  },
  {
   "cell_type": "code",
   "execution_count": 22,
   "metadata": {},
   "outputs": [],
   "source": [
    "data_sim = pyfits.open('lvdb_v2.fits')\n",
    "lvdb = data_sim[1].data"
   ]
  },
  {
   "cell_type": "code",
   "execution_count": 23,
   "metadata": {},
   "outputs": [],
   "source": [
    "PS1_confirmed_sats = ['Leo I', 'Leo II', \n",
    "            'Draco', 'Ursa Minor', 'Sextans', 'Canes Venatici I', 'Bootes I', 'Ursa Major II',\n",
    "            'Coma Berenices I', 'Sagittarius II', 'Segue 1', 'Segue 2', 'Canes Venatici II', 'Draco II',\n",
    "            'Triangulum II', 'Ursa Major I', 'Hercules I'] \n",
    "    \n",
    "PS1_sats_all = ['Leo I', 'Leo II', \n",
    "            'Draco', 'Ursa Minor', 'Sextans', 'Canes Venatici I', 'Bootes I', 'Ursa Major II',\n",
    "            'Coma Berenices I', 'Sagittarius II', 'Segue 1', 'Segue 2', 'Canes Venatici II', 'Draco II',\n",
    "            'Triangulum II', 'Ursa Major I', 'Hercules I', 'Crater II', 'Leo IV', 'Aquarius II', 'Cetus II',\n",
    "               'Bootes II', 'Leo V', 'Bootes III', 'Columba I', 'Pisces II', 'Antlia', 'Virgo I', 'Pegasus III',\n",
    "               'Cetus III'] \n",
    "    \n",
    "MW_Mv_PS1 = []\n",
    "MW_r_PS1 = []\n",
    "MW_ra_PS1 = []\n",
    "MW_dec_PS1 = []\n",
    "MW_r12_PS1 = []\n",
    "\n",
    "for name in PS1_confirmed_sats:\n",
    "    MW_Mv_PS1.append(lvdb[lvdb['name'] == name]['m_v'][0])\n",
    "    MW_r_PS1.append(lvdb[lvdb['name'] == name]['distance_kpc'][0])\n",
    "    MW_r12_PS1.append(np.radians(lvdb[lvdb['name'] == name]['rhalf'][0]/60.)*lvdb[lvdb['name'] == name]['distance_kpc'][0])\n",
    "    MW_ra_PS1.append(lvdb[lvdb['name'] == name]['ra'][0])\n",
    "    MW_dec_PS1.append(lvdb[lvdb['name'] == name]['dec'][0])\n",
    "    \n",
    "    \n",
    "MW_Mv_PS1 = np.asarray(MW_Mv_PS1)\n",
    "MW_r_PS1 = np.asarray(MW_r_PS1)\n",
    "MW_ra_PS1 = np.asarray(MW_ra_PS1)\n",
    "MW_dec_PS1 = np.asarray(MW_dec_PS1)\n",
    "MW_r12_PS1 = np.asarray(MW_r12_PS1)"
   ]
  },
  {
   "cell_type": "code",
   "execution_count": 24,
   "metadata": {},
   "outputs": [],
   "source": [
    "DES_dwarfs_confirmed = ['Large Magellanic Cloud', 'Small Magellanic Cloud', 'Fornax', 'Sculptor', 'Reticulum II', 'Eridanus II', 'Grus II', 'Tucana II',\n",
    "                             'Horologium I', 'Tucana III', 'Tucana IV', 'Phoenix II', 'Cetus II', 'Horologium II',\n",
    "                             'Tucana V', 'Grus I', 'Columba I', 'Pictor I', 'Eridanus III']\n",
    "\n",
    "DES_dwarfs_all = ['Large Magellanic Cloud', 'Small Magellanic Cloud', 'Fornax', 'Sculptor', 'Reticulum II', \n",
    "                  'Eridanus II', 'Grus II', 'Tucana II', 'Horologium I', 'Tucana III', 'Tucana IV', 'Phoenix II', \n",
    "                  'Cetus II', 'Horologium II', 'Tucana V', 'Grus I', 'Columba I', 'Pictor I', 'Eridanus III', \n",
    "                  'Reticulum III', 'Kim 2', 'Indus II', 'Cetus III']\n",
    "\n",
    "MW_Mv_DES = []\n",
    "MW_r_DES = []\n",
    "MW_ra_DES = []\n",
    "MW_dec_DES = []\n",
    "MW_r12_DES = []\n",
    "\n",
    "for name in DES_dwarfs_confirmed:\n",
    "    if name == 'Pictor I':\n",
    "        MW_Mv_DES.append(lvdb[lvdb['name'] == name]['m_v'][1])\n",
    "        MW_r_DES.append(lvdb[lvdb['name'] == name]['distance_kpc'][1])\n",
    "        MW_r12_DES.append(np.radians(lvdb[lvdb['name'] == name]['rhalf'][1]/60.)*lvdb[lvdb['name'] == name]['distance_kpc'][1])\n",
    "        MW_ra_DES.append(lvdb[lvdb['name'] == name]['ra'][1])\n",
    "        MW_dec_DES.append(lvdb[lvdb['name'] == name]['dec'][1])\n",
    "        continue\n",
    "    else:\n",
    "        MW_Mv_DES.append(lvdb[lvdb['name'] == name]['m_v'][0])\n",
    "        MW_r_DES.append(lvdb[lvdb['name'] == name]['distance_kpc'][0])\n",
    "        MW_r12_DES.append(np.radians(lvdb[lvdb['name'] == name]['rhalf'][0]/60.)*lvdb[lvdb['name'] == name]['distance_kpc'][0])\n",
    "        MW_ra_DES.append(lvdb[lvdb['name'] == name]['ra'][0])\n",
    "        MW_dec_DES.append(lvdb[lvdb['name'] == name]['dec'][0])\n",
    "        \n",
    "MW_Mv_DES = np.asarray(MW_Mv_DES)\n",
    "MW_r_DES = np.asarray(MW_r_DES)\n",
    "MW_ra_DES = np.asarray(MW_ra_DES)\n",
    "MW_dec_DES = np.asarray(MW_dec_DES)\n",
    "MW_r12_DES = np.asarray(MW_r12_DES)"
   ]
  },
  {
   "cell_type": "code",
   "execution_count": 25,
   "metadata": {},
   "outputs": [],
   "source": [
    "MW_r12_DES[0] = 2.15\n",
    "MW_r12_DES[1] = 1.073"
   ]
  },
  {
   "cell_type": "markdown",
   "metadata": {},
   "source": [
    "## Test classifier"
   ]
  },
  {
   "cell_type": "code",
   "execution_count": 26,
   "metadata": {},
   "outputs": [
    {
     "data": {
      "text/plain": [
       "array([0.99975314, 0.99925262, 0.99665391, 0.99047714, 0.9855638 ,\n",
       "       0.99042782, 0.56014755, 0.12645539, 0.63995371, 0.9281703 ,\n",
       "       0.10124119, 0.00392712, 0.1777424 , 0.95255671, 0.25555246,\n",
       "       0.00366788, 0.08899137])"
      ]
     },
     "execution_count": 26,
     "metadata": {},
     "output_type": "execute_result"
    }
   ],
   "source": [
    "PS1_ssf.predict(distance=MW_r_PS1,abs_mag=MW_Mv_PS1,\n",
    "                r_physical=MW_r12_PS1)"
   ]
  },
  {
   "cell_type": "code",
   "execution_count": 27,
   "metadata": {},
   "outputs": [
    {
     "data": {
      "text/plain": [
       "array([0.99927181, 0.99999641, 0.9999995 , 0.99999958, 0.9983279 ,\n",
       "       0.99883432, 0.99245484, 0.61672773, 0.98910916, 0.93901266,\n",
       "       0.91247028, 0.96546306, 0.42362312, 0.11420721, 0.83451773,\n",
       "       0.92685883, 0.76045784, 0.93604624, 0.82374965])"
      ]
     },
     "execution_count": 27,
     "metadata": {},
     "output_type": "execute_result"
    }
   ],
   "source": [
    "DES_ssf.predict(lon=MW_ra_DES,lat=MW_dec_DES,distance=MW_r_DES,abs_mag=MW_Mv_DES,\n",
    "                r_physical=MW_r12_DES)"
   ]
  },
  {
   "cell_type": "code",
   "execution_count": 30,
   "metadata": {},
   "outputs": [
    {
     "name": "stderr",
     "output_type": "stream",
     "text": [
      "/usr/local/lib/python2.7/site-packages/matplotlib/colorbar.py:413: UserWarning: set_ticks() must have been called.\n",
      "  warnings.warn(\"set_ticks() must have been called.\")\n"
     ]
    },
    {
     "data": {
      "image/png": "[encoded data removed]",
      "text/plain": [
       "<matplotlib.figure.Figure at 0x108b78bd0>"
      ]
     },
     "metadata": {},
     "output_type": "display_data"
    }
   ],
   "source": [
    "plt.xscale('log')\n",
    "sc = plt.scatter(MW_r_PS1,MW_Mv_PS1,c=PS1_ssf.predict(distance=MW_r_PS1,abs_mag=MW_Mv_PS1,\n",
    "                r_physical=MW_r12_PS1),s=400.*MW_r12_PS1/np.max(MW_r12_PS1),vmin=0.,vmax=1.,cmap='plasma_r')\n",
    "\n",
    "plt.xticks([10,30,50,100,200,300],[10,30,50,100,200,300],fontsize=16)\n",
    "plt.yticks([0,-2,-4,-6,-8,-10,-12,-14],[0,-2,-4,-6,-8,-10,-12,-14],fontsize=16)\n",
    "plt.xlabel(r'$r_{\\rm{\\odot}}$ [kpc]', size=20)\n",
    "plt.ylabel(r'$M_V$ [mag]', size=20)   \n",
    "\n",
    "cbar = plt.colorbar(sc)\n",
    "cbar.set_label(r'$p_{\\rm{det}}$',size=20,labelpad=4)\n",
    "cbar.set_ticklabels([0,0.2,0.4,0.6,0.8,1.0])\n",
    "cbar.ax.tick_params(labelsize=16) \n",
    "\n",
    "plt.tight_layout()\n",
    "plt.show()"
   ]
  },
  {
   "cell_type": "code",
   "execution_count": 31,
   "metadata": {},
   "outputs": [
    {
     "data": {
      "image/png": "[encoded data removed]",
      "text/plain": [
       "<matplotlib.figure.Figure at 0x12fa95b90>"
      ]
     },
     "metadata": {},
     "output_type": "display_data"
    }
   ],
   "source": [
    "plt.xscale('log')\n",
    "sc = plt.scatter(MW_r_DES[2:],MW_Mv_DES[2:],c=DES_ssf.predict(distance=MW_r_DES[2:],abs_mag=MW_Mv_DES[2:],\n",
    "                r_physical=MW_r12_DES[2:]),s=400.*MW_r12_DES[2:]/np.max(MW_r12_PS1),vmin=0.,vmax=1.,cmap='plasma_r')\n",
    "\n",
    "plt.xticks([10,30,50,100,200,300],[10,30,50,100,200,300],fontsize=16)\n",
    "plt.yticks([0,-2,-4,-6,-8,-10,-12,-14],[0,-2,-4,-6,-8,-10,-12,-14],fontsize=16)\n",
    "plt.xlabel(r'$r_{\\rm{\\odot}}$ [kpc]', size=20)\n",
    "plt.ylabel(r'$M_V$ [mag]', size=20)   \n",
    "\n",
    "cbar = plt.colorbar(sc)\n",
    "cbar.set_label(r'$p_{\\rm{det}}$',size=20,labelpad=4)\n",
    "cbar.set_ticklabels([0,0.2,0.4,0.6,0.8,1.0])\n",
    "cbar.ax.tick_params(labelsize=16) \n",
    "\n",
    "plt.tight_layout()\n",
    "plt.show()"
   ]
  }
 ],
 "metadata": {
  "kernelspec": {
   "display_name": "Python 2",
   "language": "python",
   "name": "python2"
  },
  "language_info": {
   "codemirror_mode": {
    "name": "ipython",
    "version": 2
   },
   "file_extension": ".py",
   "mimetype": "text/x-python",
   "name": "python",
   "nbconvert_exporter": "python",
   "pygments_lexer": "ipython2",
   "version": "2.7.15"
  }
 },
 "nbformat": 4,
 "nbformat_minor": 2
}
