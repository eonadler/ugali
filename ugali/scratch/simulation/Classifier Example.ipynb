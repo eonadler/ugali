{
 "cells": [
  {
   "cell_type": "markdown",
   "metadata": {},
   "source": [
    "## Imports etc."
   ]
  },
  {
   "cell_type": "code",
   "execution_count": 1,
   "metadata": {},
   "outputs": [],
   "source": [
    "#Imports\n",
    "import time\n",
    "import numpy as np\n",
    "import yaml\n",
    "import os\n",
    "import pickle\n",
    "import scipy\n",
    "import pylab\n",
    "import matplotlib.pyplot as plt\n",
    "from pylab import figure, axes, pie, title, show\n",
    "import astropy.io.fits as pyfits\n",
    "from astropy.coordinates import Angle\n",
    "from astropy.coordinates import SkyCoord, Galactocentric\n",
    "from astropy_healpix import HEALPix\n",
    "import astropy.units as u\n",
    "import healpy as hp"
   ]
  },
  {
   "cell_type": "markdown",
   "metadata": {},
   "source": [
    "## Load classifier"
   ]
  },
  {
   "cell_type": "code",
   "execution_count": 2,
   "metadata": {},
   "outputs": [],
   "source": [
    "class surveySelectionFunction:\n",
    "    \n",
    "    def __init__(self, config_file):\n",
    "        self.config = yaml.load(open(config_file))\n",
    "        self.algorithm = self.config['operation']['algorithm']\n",
    "        self.classifier = None\n",
    "        self.loadClassifier()\n",
    "\n",
    "    def loadClassifier(self):\n",
    "        if os.path.exists(self.config[self.algorithm]['classifier'] + '.gz') and not os.path.exists(self.config[self.algorithm]['classifier']):\n",
    "            os.system('gunzip -k %s.gz'%(self.config[self.algorithm]['classifier']))\n",
    "        reader = open(self.config[self.algorithm]['classifier'])\n",
    "        classifier_data = ''.join(reader.readlines())\n",
    "        reader.close()\n",
    "        self.classifier = pickle.loads(classifier_data)\n",
    "        \n",
    "    def predict(self, **kwargs):\n",
    "        assert self.classifier is not None, 'ERROR'    \n",
    "        x_test = []\n",
    "        for key, operation in self.config['operation']['params_intrinsic']:\n",
    "            assert operation.lower() in ['linear', 'log'], 'ERROR'\n",
    "            if operation.lower() == 'linear':\n",
    "                x_test.append(kwargs[key])\n",
    "            else:\n",
    "                x_test.append(np.log10(kwargs[key]))\n",
    "\n",
    "        x_test = np.vstack(x_test).T\n",
    "        #pred = self.classifier.predict(x_test)#[:,1]\n",
    "        pred = self.classifier.predict_proba(x_test)[:,1]\n",
    "        return pred"
   ]
  },
  {
   "cell_type": "code",
   "execution_count": 6,
   "metadata": {},
   "outputs": [
    {
     "name": "stderr",
     "output_type": "stream",
     "text": [
      "/usr/local/lib/python2.7/site-packages/sklearn/base.py:251: UserWarning: Trying to unpickle estimator MLPClassifier from version 0.18.1 when using version 0.20.2. This might lead to breaking code or invalid results. Use at your own risk.\n",
      "  UserWarning)\n",
      "/usr/local/lib/python2.7/site-packages/sklearn/base.py:251: UserWarning: Trying to unpickle estimator LabelBinarizer from version 0.18.1 when using version 0.20.2. This might lead to breaking code or invalid results. Use at your own risk.\n",
      "  UserWarning)\n",
      "/usr/local/lib/python2.7/site-packages/sklearn/base.py:251: UserWarning: Trying to unpickle estimator GridSearchCV from version 0.18.1 when using version 0.20.2. This might lead to breaking code or invalid results. Use at your own risk.\n",
      "  UserWarning)\n"
     ]
    }
   ],
   "source": [
    "DES_config_file = os.getcwd() + '/des_y3a2_survey_selection_function.yaml'\n",
    "DES_ssf = surveySelectionFunction(DES_config_file)\n",
    "DES_ssf.loadClassifier()"
   ]
  },
  {
   "cell_type": "code",
   "execution_count": 7,
   "metadata": {},
   "outputs": [],
   "source": [
    "PS1_config_file = os.getcwd() + '/PS1_DR1_survey_selection_function.yaml'\n",
    "PS1_ssf = surveySelectionFunction(PS1_config_file)\n",
    "PS1_ssf.loadClassifier()"
   ]
  },
  {
   "cell_type": "markdown",
   "metadata": {},
   "source": [
    "## Load satellite data"
   ]
  },
  {
   "cell_type": "code",
   "execution_count": 8,
   "metadata": {},
   "outputs": [],
   "source": [
    "data_sim = pyfits.open('lvdb_v2.fits')\n",
    "lvdb = data_sim[1].data"
   ]
  },
  {
   "cell_type": "code",
   "execution_count": 25,
   "metadata": {},
   "outputs": [],
   "source": [
    "PS1_confirmed_sats = ['Leo I', 'Leo II', \n",
    "            'Draco', 'Ursa Minor', 'Sextans', 'Canes Venatici I', 'Bootes I', 'Ursa Major II',\n",
    "            'Coma Berenices I', 'Sagittarius II', 'Segue 1', 'Segue 2', 'Canes Venatici II', 'Draco II',\n",
    "            'Triangulum II', 'Ursa Major I', 'Hercules I'] \n",
    "    \n",
    "PS1_sats_all = ['Leo I', 'Leo II', \n",
    "            'Draco', 'Ursa Minor', 'Sextans', 'Canes Venatici I', 'Bootes I', 'Ursa Major II',\n",
    "            'Coma Berenices I', 'Sagittarius II', 'Segue 1', 'Segue 2', 'Canes Venatici II', 'Draco II',\n",
    "            'Triangulum II', 'Ursa Major I', 'Hercules I', 'Crater II', 'Leo IV', 'Aquarius II', 'Cetus II',\n",
    "               'Bootes II', 'Leo V', 'Bootes III', 'Columba I', 'Pisces II', 'Antlia', 'Virgo I', 'Pegasus III',\n",
    "               'Cetus III'] \n",
    "    \n",
    "MW_Mv_PS1 = []\n",
    "MW_r_PS1 = []\n",
    "MW_ra_PS1 = []\n",
    "MW_dec_PS1 = []\n",
    "MW_r12_PS1 = []\n",
    "\n",
    "for name in PS1_sats_all:\n",
    "    MW_Mv_PS1.append(lvdb[lvdb['name'] == name]['m_v'][0])\n",
    "    MW_r_PS1.append(lvdb[lvdb['name'] == name]['distance_kpc'][0])\n",
    "    MW_r12_PS1.append(np.radians(lvdb[lvdb['name'] == name]['rhalf'][0]/60.)*lvdb[lvdb['name'] == name]['distance_kpc'][0])\n",
    "    MW_ra_PS1.append(lvdb[lvdb['name'] == name]['ra'][0])\n",
    "    MW_dec_PS1.append(lvdb[lvdb['name'] == name]['dec'][0])\n",
    "    \n",
    "    \n",
    "MW_Mv_PS1 = np.asarray(MW_Mv_PS1)\n",
    "MW_r_PS1 = np.asarray(MW_r_PS1)\n",
    "MW_ra_PS1 = np.asarray(MW_ra_PS1)\n",
    "MW_dec_PS1 = np.asarray(MW_dec_PS1)\n",
    "MW_r12_PS1 = np.asarray(MW_r12_PS1)"
   ]
  },
  {
   "cell_type": "code",
   "execution_count": 33,
   "metadata": {},
   "outputs": [],
   "source": [
    "#Literature values not in LVDB \n",
    "MW_Mv_PS1[-1] = -2.4\n",
    "MW_Mv_PS1[-11] = -4.36\n",
    "MW_Mv_PS1[-13] = -8.2\n",
    "\n",
    "MW_r12_PS1[-1] = 0.09\n",
    "MW_r12_PS1[-7] = 0.0001\n",
    "MW_r12_PS1[-11] = 0.16\n",
    "MW_r12_PS1[-13] = 1.1"
   ]
  },
  {
   "cell_type": "code",
   "execution_count": 34,
   "metadata": {},
   "outputs": [],
   "source": [
    "DES_dwarfs_confirmed = ['Large Magellanic Cloud', 'Small Magellanic Cloud', 'Fornax', 'Sculptor', 'Reticulum II', 'Eridanus II', 'Grus II', 'Tucana II',\n",
    "                             'Horologium I', 'Tucana III', 'Tucana IV', 'Phoenix II', 'Cetus II', 'Horologium II',\n",
    "                             'Tucana V', 'Grus I', 'Columba I', 'Pictor I', 'Eridanus III']\n",
    "\n",
    "DES_dwarfs_all = ['Large Magellanic Cloud', 'Small Magellanic Cloud', 'Fornax', 'Sculptor', 'Reticulum II', \n",
    "                  'Eridanus II', 'Grus II', 'Tucana II', 'Horologium I', 'Tucana III', 'Tucana IV', 'Phoenix II', \n",
    "                  'Cetus II', 'Horologium II', 'Tucana V', 'Grus I', 'Columba I', 'Pictor I', 'Eridanus III', \n",
    "                  'Reticulum III', 'Kim 2', 'Indus II', 'Cetus III']\n",
    "\n",
    "MW_Mv_DES = []\n",
    "MW_r_DES = []\n",
    "MW_ra_DES = []\n",
    "MW_dec_DES = []\n",
    "MW_r12_DES = []\n",
    "\n",
    "for name in DES_dwarfs_all:\n",
    "    if name == 'Pictor I':\n",
    "        MW_Mv_DES.append(lvdb[lvdb['name'] == name]['m_v'][1])\n",
    "        MW_r_DES.append(lvdb[lvdb['name'] == name]['distance_kpc'][1])\n",
    "        MW_r12_DES.append(np.radians(lvdb[lvdb['name'] == name]['rhalf'][1]/60.)*lvdb[lvdb['name'] == name]['distance_kpc'][1])\n",
    "        MW_ra_DES.append(lvdb[lvdb['name'] == name]['ra'][1])\n",
    "        MW_dec_DES.append(lvdb[lvdb['name'] == name]['dec'][1])\n",
    "        continue\n",
    "    else:\n",
    "        MW_Mv_DES.append(lvdb[lvdb['name'] == name]['m_v'][0])\n",
    "        MW_r_DES.append(lvdb[lvdb['name'] == name]['distance_kpc'][0])\n",
    "        MW_r12_DES.append(np.radians(lvdb[lvdb['name'] == name]['rhalf'][0]/60.)*lvdb[lvdb['name'] == name]['distance_kpc'][0])\n",
    "        MW_ra_DES.append(lvdb[lvdb['name'] == name]['ra'][0])\n",
    "        MW_dec_DES.append(lvdb[lvdb['name'] == name]['dec'][0])\n",
    "        \n",
    "MW_Mv_DES = np.asarray(MW_Mv_DES)\n",
    "MW_r_DES = np.asarray(MW_r_DES)\n",
    "MW_ra_DES = np.asarray(MW_ra_DES)\n",
    "MW_dec_DES = np.asarray(MW_dec_DES)\n",
    "MW_r12_DES = np.asarray(MW_r12_DES)"
   ]
  },
  {
   "cell_type": "code",
   "execution_count": 35,
   "metadata": {},
   "outputs": [],
   "source": [
    "#Literature values not in LVDB\n",
    "MW_Mv_DES[-1] = -2.4\n",
    "MW_Mv_DES[-2] = -4.3\n",
    "\n",
    "MW_r12_DES[0] = 2.15\n",
    "MW_r12_DES[1] = 1.073\n",
    "MW_r12_DES[-1] = 0.09\n",
    "MW_r12_DES[-2] = 0.181"
   ]
  },
  {
   "cell_type": "markdown",
   "metadata": {},
   "source": [
    "## Test classifier"
   ]
  },
  {
   "cell_type": "code",
   "execution_count": 36,
   "metadata": {},
   "outputs": [
    {
     "data": {
      "text/plain": [
       "array([9.99753144e-01, 9.99252620e-01, 9.96653909e-01, 9.90477135e-01,\n",
       "       9.85563805e-01, 9.90427817e-01, 5.60147551e-01, 1.26455385e-01,\n",
       "       6.39953712e-01, 9.28170305e-01, 1.01241192e-01, 3.92711940e-03,\n",
       "       1.77742404e-01, 9.52556714e-01, 2.55552465e-01, 3.66788333e-03,\n",
       "       8.89913693e-02, 7.93941185e-02, 1.80019057e-02, 9.19896780e-04,\n",
       "       4.97211139e-04, 3.97011727e-02, 2.06461563e-02, 9.99880621e-01,\n",
       "       1.71657444e-03, 2.02758896e-03, 9.98388232e-01, 1.07020666e-05,\n",
       "       2.58353497e-04, 8.57892093e-06])"
      ]
     },
     "execution_count": 36,
     "metadata": {},
     "output_type": "execute_result"
    }
   ],
   "source": [
    "PS1_ssf.predict(distance=MW_r_PS1,abs_mag=MW_Mv_PS1,\n",
    "                r_physical=MW_r12_PS1)"
   ]
  },
  {
   "cell_type": "code",
   "execution_count": 37,
   "metadata": {},
   "outputs": [
    {
     "data": {
      "text/plain": [
       "array([9.99271811e-01, 9.99996410e-01, 9.99999496e-01, 9.99999580e-01,\n",
       "       9.98327902e-01, 9.98834320e-01, 9.92454835e-01, 6.16727727e-01,\n",
       "       9.89109165e-01, 9.39012657e-01, 9.12470280e-01, 9.65463057e-01,\n",
       "       4.23623120e-01, 1.14207206e-01, 8.34517731e-01, 9.26858833e-01,\n",
       "       7.60457844e-01, 9.36046244e-01, 8.23749654e-01, 8.03013348e-01,\n",
       "       9.55752081e-01, 2.24772663e-02, 8.26579702e-04])"
      ]
     },
     "execution_count": 37,
     "metadata": {},
     "output_type": "execute_result"
    }
   ],
   "source": [
    "DES_ssf.predict(lon=MW_ra_DES,lat=MW_dec_DES,distance=MW_r_DES,abs_mag=MW_Mv_DES,\n",
    "                r_physical=MW_r12_DES)"
   ]
  },
  {
   "cell_type": "code",
   "execution_count": 38,
   "metadata": {},
   "outputs": [
    {
     "data": {
      "image/png": "[encoded data removed]",
      "text/plain": [
       "<matplotlib.figure.Figure at 0x13143f810>"
      ]
     },
     "metadata": {},
     "output_type": "display_data"
    }
   ],
   "source": [
    "plt.xscale('log')\n",
    "sc = plt.scatter(MW_r_PS1,MW_Mv_PS1,c=PS1_ssf.predict(distance=MW_r_PS1,abs_mag=MW_Mv_PS1,\n",
    "                r_physical=MW_r12_PS1),s=400.*MW_r12_PS1/np.max(MW_r12_PS1),vmin=0.,vmax=1.,cmap='plasma_r')\n",
    "\n",
    "plt.xticks([10,30,50,100,200,300],[10,30,50,100,200,300],fontsize=16)\n",
    "plt.yticks([0,-2,-4,-6,-8,-10,-12,-14],[0,-2,-4,-6,-8,-10,-12,-14],fontsize=16)\n",
    "plt.xlabel(r'$r_{\\rm{\\odot}}$ [kpc]', size=20)\n",
    "plt.ylabel(r'$M_V$ [mag]', size=20)   \n",
    "\n",
    "cbar = plt.colorbar(sc)\n",
    "cbar.set_label(r'$p_{\\rm{det}}$',size=20,labelpad=4)\n",
    "cbar.set_ticklabels([0,0.2,0.4,0.6,0.8,1.0])\n",
    "cbar.ax.tick_params(labelsize=16) \n",
    "\n",
    "plt.tight_layout()\n",
    "plt.show()"
   ]
  },
  {
   "cell_type": "code",
   "execution_count": 39,
   "metadata": {},
   "outputs": [
    {
     "data": {
      "image/png": "[encoded data removed]",
      "text/plain": [
       "<matplotlib.figure.Figure at 0x1328fa650>"
      ]
     },
     "metadata": {},
     "output_type": "display_data"
    }
   ],
   "source": [
    "plt.xscale('log')\n",
    "sc = plt.scatter(MW_r_DES[2:],MW_Mv_DES[2:],c=DES_ssf.predict(distance=MW_r_DES[2:],abs_mag=MW_Mv_DES[2:],\n",
    "                r_physical=MW_r12_DES[2:]),s=400.*MW_r12_DES[2:]/np.max(MW_r12_PS1),vmin=0.,vmax=1.,cmap='plasma_r')\n",
    "\n",
    "plt.xticks([10,30,50,100,200,300],[10,30,50,100,200,300],fontsize=16)\n",
    "plt.yticks([0,-2,-4,-6,-8,-10,-12,-14],[0,-2,-4,-6,-8,-10,-12,-14],fontsize=16)\n",
    "plt.xlabel(r'$r_{\\rm{\\odot}}$ [kpc]', size=20)\n",
    "plt.ylabel(r'$M_V$ [mag]', size=20)   \n",
    "\n",
    "cbar = plt.colorbar(sc)\n",
    "cbar.set_label(r'$p_{\\rm{det}}$',size=20,labelpad=4)\n",
    "cbar.set_ticklabels([0,0.2,0.4,0.6,0.8,1.0])\n",
    "cbar.ax.tick_params(labelsize=16) \n",
    "\n",
    "plt.tight_layout()\n",
    "plt.show()"
   ]
  },
  {
   "cell_type": "code",
   "execution_count": 48,
   "metadata": {},
   "outputs": [],
   "source": [
    "pdet_DES = {}\n",
    "i = 0\n",
    "\n",
    "for name in DES_dwarfs_confirmed:\n",
    "    pdet_DES[name] = DES_ssf.predict(lon=MW_ra_DES[i],lat=MW_dec_DES[i],distance=MW_r_DES[i],abs_mag=MW_Mv_DES[i],\n",
    "                r_physical=MW_r12_DES[i])\n",
    "    i += 1\n",
    "    \n",
    "np.save('pdet_DES.npy', pdet_DES)"
   ]
  },
  {
   "cell_type": "code",
   "execution_count": 49,
   "metadata": {},
   "outputs": [],
   "source": [
    "pdet_PS1 = {}\n",
    "j = 0\n",
    "\n",
    "for name in PS1_sats_all:\n",
    "    pdet_PS1[name] = PS1_ssf.predict(distance=MW_r_PS1[j],abs_mag=MW_Mv_PS1[j],\n",
    "                r_physical=MW_r12_PS1[j])\n",
    "    j += 1\n",
    "    \n",
    "np.save('pdet_PS1.npy', pdet_PS1)"
   ]
  }
 ],
 "metadata": {
  "kernelspec": {
   "display_name": "Python 2",
   "language": "python",
   "name": "python2"
  },
  "language_info": {
   "codemirror_mode": {
    "name": "ipython",
    "version": 2
   },
   "file_extension": ".py",
   "mimetype": "text/x-python",
   "name": "python",
   "nbconvert_exporter": "python",
   "pygments_lexer": "ipython2",
   "version": "2.7.15"
  }
 },
 "nbformat": 4,
 "nbformat_minor": 2
}
